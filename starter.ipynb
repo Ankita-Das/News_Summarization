{
 "cells": [
  {
   "cell_type": "code",
   "execution_count": 182,
   "metadata": {},
   "outputs": [],
   "source": [
    "import pandas as pd\n",
    "from sklearn.model_selection import train_test_split\n",
    "from keras.models import model_from_json\n",
    "import numpy as np\n",
    "from nltk import word_tokenize\n",
    "from numpy import array\n",
    "from keras.models import Model\n",
    "from keras.layers import Input\n",
    "from keras.layers import LSTM\n",
    "from keras.utils.vis_utils import plot_model\n",
    "from keras.preprocessing import sequence\n",
    "from keras.layers import Dense\n",
    "from keras.preprocessing.sequence import pad_sequences\n",
    "import re\n",
    "from nltk.corpus import stopwords\n",
    "from bs4 import BeautifulSoup \n",
    "import matplotlib.pyplot as plt\n",
    "from keras.preprocessing.text import Tokenizer \n",
    "from keras.preprocessing.sequence import pad_sequences\n",
    "##You may import any other module if required"
   ]
  },
  {
   "cell_type": "code",
   "execution_count": 183,
   "metadata": {},
   "outputs": [],
   "source": [
    "df=pd.read_csv(\"news_summary.csv\",encoding = \"ISO-8859-1\")\n",
    "columns=df.columns\n",
    "new_df=df[['ctext','text']]\n",
    "#print(df.describe())\n",
    "#print(new_df.head())\n",
    "#print(\"Description:\",new_df['ctext'][0])\n",
    "#print(\"Summary:\",new_df['text'][0])\n",
    "new_df.to_csv(\"summary.csv\",encoding = \"ISO-8859-1\")"
   ]
  },
  {
   "cell_type": "code",
   "execution_count": 184,
   "metadata": {},
   "outputs": [],
   "source": [
    "contraction_mapping = {\"ain't\": \"is not\", \"aren't\": \"are not\",\"can't\": \"cannot\", \"'cause\": \"because\", \"could've\": \"could have\", \"couldn't\": \"could not\",\n",
    "\n",
    "                           \"didn't\": \"did not\", \"doesn't\": \"does not\", \"don't\": \"do not\", \"hadn't\": \"had not\", \"hasn't\": \"has not\", \"haven't\": \"have not\",\n",
    "\n",
    "                           \"he'd\": \"he would\",\"he'll\": \"he will\", \"he's\": \"he is\", \"how'd\": \"how did\", \"how'd'y\": \"how do you\", \"how'll\": \"how will\", \"how's\": \"how is\",\n",
    "\n",
    "                           \"I'd\": \"I would\", \"I'd've\": \"I would have\", \"I'll\": \"I will\", \"I'll've\": \"I will have\",\"I'm\": \"I am\", \"I've\": \"I have\", \"i'd\": \"i would\",\n",
    "\n",
    "                           \"i'd've\": \"i would have\", \"i'll\": \"i will\",  \"i'll've\": \"i will have\",\"i'm\": \"i am\", \"i've\": \"i have\", \"isn't\": \"is not\", \"it'd\": \"it would\",\n",
    "\n",
    "                           \"it'd've\": \"it would have\", \"it'll\": \"it will\", \"it'll've\": \"it will have\",\"it's\": \"it is\", \"let's\": \"let us\", \"ma'am\": \"madam\",\n",
    "\n",
    "                           \"mayn't\": \"may not\", \"might've\": \"might have\",\"mightn't\": \"might not\",\"mightn't've\": \"might not have\", \"must've\": \"must have\",\n",
    "\n",
    "                           \"mustn't\": \"must not\", \"mustn't've\": \"must not have\", \"needn't\": \"need not\", \"needn't've\": \"need not have\",\"o'clock\": \"of the clock\",\n",
    "\n",
    "                           \"oughtn't\": \"ought not\", \"oughtn't've\": \"ought not have\", \"shan't\": \"shall not\", \"sha'n't\": \"shall not\", \"shan't've\": \"shall not have\",\n",
    "\n",
    "                           \"she'd\": \"she would\", \"she'd've\": \"she would have\", \"she'll\": \"she will\", \"she'll've\": \"she will have\", \"she's\": \"she is\",\n",
    "\n",
    "                           \"should've\": \"should have\", \"shouldn't\": \"should not\", \"shouldn't've\": \"should not have\", \"so've\": \"so have\",\"so's\": \"so as\",\n",
    "\n",
    "                           \"this's\": \"this is\",\"that'd\": \"that would\", \"that'd've\": \"that would have\", \"that's\": \"that is\", \"there'd\": \"there would\",\n",
    "\n",
    "                           \"there'd've\": \"there would have\", \"there's\": \"there is\", \"here's\": \"here is\",\"they'd\": \"they would\", \"they'd've\": \"they would have\",\n",
    "\n",
    "                           \"they'll\": \"they will\", \"they'll've\": \"they will have\", \"they're\": \"they are\", \"they've\": \"they have\", \"to've\": \"to have\",\n",
    "\n",
    "                           \"wasn't\": \"was not\", \"we'd\": \"we would\", \"we'd've\": \"we would have\", \"we'll\": \"we will\", \"we'll've\": \"we will have\", \"we're\": \"we are\",\n",
    "\n",
    "                           \"we've\": \"we have\", \"weren't\": \"were not\", \"what'll\": \"what will\", \"what'll've\": \"what will have\", \"what're\": \"what are\",\n",
    "\n",
    "                           \"what's\": \"what is\", \"what've\": \"what have\", \"when's\": \"when is\", \"when've\": \"when have\", \"where'd\": \"where did\", \"where's\": \"where is\",\n",
    "\n",
    "                           \"where've\": \"where have\", \"who'll\": \"who will\", \"who'll've\": \"who will have\", \"who's\": \"who is\", \"who've\": \"who have\",\n",
    "\n",
    "                           \"why's\": \"why is\", \"why've\": \"why have\", \"will've\": \"will have\", \"won't\": \"will not\", \"won't've\": \"will not have\",\n",
    "\n",
    "                           \"would've\": \"would have\", \"wouldn't\": \"would not\", \"wouldn't've\": \"would not have\", \"y'all\": \"you all\",\n",
    "\n",
    "                           \"y'all'd\": \"you all would\",\"y'all'd've\": \"you all would have\",\"y'all're\": \"you all are\",\"y'all've\": \"you all have\",\n",
    "\n",
    "                           \"you'd\": \"you would\", \"you'd've\": \"you would have\", \"you'll\": \"you will\", \"you'll've\": \"you will have\",\n",
    "\n",
    "                           \"you're\": \"you are\", \"you've\": \"you have\"}\n",
    "\n"
   ]
  },
  {
   "cell_type": "code",
   "execution_count": 185,
   "metadata": {},
   "outputs": [],
   "source": [
    "df=pd.read_csv(\"summary.csv\",encoding = \"ISO-8859-1\")\n",
    "columns=df.columns\n",
    "\n",
    "\n",
    "\n",
    "\n",
    "#An example showing the data and the summary\n",
    "#print(\"Text:\",X[1])\n",
    "#print(\"\\n\")\n",
    "#print(\"Summary:\",y[1])\n",
    "#Text cleaning\n",
    "#Rows having duplicates will be omitted\n",
    "df.drop_duplicates(keep='first',inplace=True)\n",
    "\n",
    "#Rows not having summary or document is deleted\n",
    "df.dropna(axis=0,inplace=True)\n",
    "X=df['ctext']\n",
    "y=df['text']"
   ]
  },
  {
   "cell_type": "code",
   "execution_count": 204,
   "metadata": {},
   "outputs": [],
   "source": [
    "#Splitting the dataset to train set and test set\n",
    "X_train, X_test, y_train, y_test = train_test_split(X, y, test_size=0.33)"
   ]
  },
  {
   "cell_type": "code",
   "execution_count": 205,
   "metadata": {},
   "outputs": [],
   "source": [
    "def dataset_cleaning():\n",
    "    stop_words = set(stopwords.words('english')) \n",
    "    def text_cleaner(text):\n",
    "        newString = text.lower()\n",
    "        newString = BeautifulSoup(newString, \"lxml\").text\n",
    "        newString = re.sub(r'\\([^)]*\\)', '', newString)\n",
    "        newString = re.sub('\"','', newString)\n",
    "        newString = ' '.join([contraction_mapping[t] if t in contraction_mapping else t for t in newString.split(\" \")])    \n",
    "        newString = re.sub(r\"'s\\b\",\"\",newString)\n",
    "        newString = re.sub(\"[^a-zA-Z]\", \" \", newString) \n",
    "        tokens = [w for w in newString.split() if not w in stop_words]\n",
    "        long_words=[]\n",
    "        for i in tokens:\n",
    "            if len(i)>=3:                  #removing short word\n",
    "                long_words.append(i)   \n",
    "        return (\" \".join(long_words)).strip()\n",
    "\n",
    "    cleaned_text = []\n",
    "    for t in df['ctext']:\n",
    "        cleaned_text.append(text_cleaner(t))\n",
    "    print('done')\n",
    "\n",
    "    def summary_cleaner(text):\n",
    "        newString = re.sub('\"','', text)\n",
    "        newString = ' '.join([contraction_mapping[t] if t in contraction_mapping else t for t in newString.split(\" \")])    \n",
    "        newString = re.sub(r\"'s\\b\",\"\",newString)\n",
    "        newString = re.sub(\"[^a-zA-Z]\", \" \", newString)\n",
    "        newString = newString.lower()\n",
    "        tokens=newString.split()\n",
    "        newString=''\n",
    "        for i in tokens:\n",
    "            if len(i)>1:                                 \n",
    "                newString=newString+i+' '  \n",
    "        return newString\n",
    "\n",
    "    #Call the above function\n",
    "    cleaned_summary = []\n",
    "    for t in df['text']:\n",
    "        cleaned_summary.append(summary_cleaner(t))\n",
    "    \n",
    "\n",
    "    df['cleaned_text']=cleaned_text\n",
    "    df['cleaned_summary']=cleaned_summary\n",
    "    df['cleaned_summary'].replace('', np.nan, inplace=True)\n",
    "    df.dropna(axis=0,inplace=True)"
   ]
  },
  {
   "cell_type": "code",
   "execution_count": 206,
   "metadata": {},
   "outputs": [
    {
     "name": "stdout",
     "output_type": "stream",
     "text": [
      "done\n"
     ]
    }
   ],
   "source": [
    "dataset_cleaning()"
   ]
  },
  {
   "cell_type": "code",
   "execution_count": 211,
   "metadata": {},
   "outputs": [],
   "source": [
    "def preprocessing(X_train,X_test,y_train,y_test):\n",
    "    #This function  will be used to preprocess the data to a form that can be fed into the neural network\n",
    "    #Subparts:\n",
    "    ##1.Find the most_probable_length of the sentences of text_type and summary type \n",
    "    ##(Hint: you may plot the distribution of lengths of sentences)\n",
    "    text_count = []\n",
    "    summary_count = []\n",
    "\n",
    "    for t in df['cleaned_text']:\n",
    "        text_count.append(len(t.split()))\n",
    "    for t in df['cleaned_summary']:\n",
    "        summary_count.append(len(t.split()))\n",
    "      \n",
    "   #graph_df= pd.DataFrame()\n",
    "   #graph_df['text']=text_count\n",
    "    df2=pd.DataFrame()\n",
    "  # graph_df['summary']=summary_count\n",
    "    df2['summary']=summary_count\n",
    "  # graph_df.hist(bins = 5,range = [0,600])\n",
    "  # df2.hist(bins = 5,range = [50,63])\n",
    "   #plt.show()\n",
    "    max_sum_len=63\n",
    "    max_text_len=600\n",
    "    \n",
    "\n",
    "    ##2.Tokenizing the data\n",
    "    X_tokenizer = Tokenizer()\n",
    "    X_tokenizer.fit_on_texts(list(X_train))\n",
    "    y_tokenizer = Tokenizer()\n",
    "    y_tokenizer.fit_on_texts(list(y_train))\n",
    "    \n",
    "    X_train_seq = X_tokenizer.texts_to_sequences(X_train)\n",
    "    X_test_seq=X_tokenizer.texts_to_sequences(X_test)\n",
    "    y_train_seq = y_tokenizer.texts_to_sequences(y_train)\n",
    "    y_test_seq=y_tokenizer.texts_to_sequences(y_test)\n",
    "    \n",
    "    ##3.Padding the sentences to a specific length\n",
    "    X_train=pad_sequences(X_train_seq,maxlen=max_text_len)\n",
    "    X_test= pad_sequences(X_test_seq,maxlen=max_text_len)\n",
    "    y_train=pad_sequences(y_train_seq,maxlen=max_sum_len)\n",
    "    y_test= pad_sequences(y_test_seq,maxlen=max_sum_len)  \n",
    "\n",
    "    ##4.Introducing embeddings( We'll be using the Fasttext embeddings)\n",
    "    "
   ]
  },
  {
   "cell_type": "code",
   "execution_count": 212,
   "metadata": {},
   "outputs": [],
   "source": [
    "preprocessing(X_train,X_test,y_train,y_test)"
   ]
  },
  {
   "cell_type": "code",
   "execution_count": 181,
   "metadata": {},
   "outputs": [],
   "source": [
    "cnt=0\n",
    "for i in df['cleaned_summary']:\n",
    "    if(len(i.split())<=63):\n",
    "        cnt=cnt+1\n",
    "#print(cnt/len(df['cleaned_summary']))\n",
    "cnt=0\n",
    "for i in df['cleaned_text']:\n",
    "    if(len(i.split())<600):\n",
    "        cnt=cnt+1\n",
    "#print(cnt/len(df['cleaned_text']))\n"
   ]
  },
  {
   "cell_type": "code",
   "execution_count": 114,
   "metadata": {},
   "outputs": [],
   "source": [
    "def model():\n",
    "    #This function defines the structure  of the model , i.e the number of hidden units, no. of layers\n",
    "    #and the input and output dimensions of each layer.(We'll be using keras)\n",
    "    pass"
   ]
  },
  {
   "cell_type": "code",
   "execution_count": 16,
   "metadata": {},
   "outputs": [],
   "source": [
    "def model_accuracy():\n",
    "    #Function to check how the model works on the test data\n",
    "    pass"
   ]
  },
  {
   "cell_type": "code",
   "execution_count": 17,
   "metadata": {},
   "outputs": [],
   "source": [
    "def predict():\n",
    "    #This function will interact with the user in taking whole texts and will return it's summary as output\n",
    "    pass"
   ]
  }
 ],
 "metadata": {
  "kernelspec": {
   "display_name": "Python 3",
   "language": "python",
   "name": "python3"
  },
  "language_info": {
   "codemirror_mode": {
    "name": "ipython",
    "version": 3
   },
   "file_extension": ".py",
   "mimetype": "text/x-python",
   "name": "python",
   "nbconvert_exporter": "python",
   "pygments_lexer": "ipython3",
   "version": "3.7.5"
  }
 },
 "nbformat": 4,
 "nbformat_minor": 2
}
